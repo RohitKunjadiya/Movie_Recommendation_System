{
 "cells": [
  {
   "cell_type": "code",
   "execution_count": 1,
   "metadata": {
    "id": "QcbSUVqe0MmZ"
   },
   "outputs": [],
   "source": [
    "# !pip install opendatasets"
   ]
  },
  {
   "cell_type": "code",
   "execution_count": 2,
   "metadata": {
    "colab": {
     "base_uri": "https://localhost:8080/"
    },
    "id": "sxcEWZND0W3p",
    "outputId": "547f18ca-00a8-4374-ff74-8ac8fd5c6f3f"
   },
   "outputs": [
    {
     "name": "stdout",
     "output_type": "stream",
     "text": [
      "Skipping, found downloaded files in \".\\imdb-movies-data\" (use force=True to force download)\n"
     ]
    }
   ],
   "source": [
    "import opendatasets as od\n",
    "\n",
    "od.download('https://www.kaggle.com/datasets/amanbarthwal/imdb-movies-data')"
   ]
  },
  {
   "cell_type": "code",
   "execution_count": 3,
   "metadata": {
    "id": "j28cmJe80gXi"
   },
   "outputs": [],
   "source": [
    "import numpy as np\n",
    "import pandas as pd\n",
    "from matplotlib import pyplot as plt\n",
    "import seaborn as sns"
   ]
  },
  {
   "cell_type": "code",
   "execution_count": 4,
   "metadata": {
    "id": "mhpLZKLK1FI3"
   },
   "outputs": [],
   "source": [
    "df = pd.read_csv('imdb-movies-data/imdb-movies-dataset.csv')"
   ]
  },
  {
   "cell_type": "code",
   "execution_count": 5,
   "metadata": {
    "id": "WnDxW-5b7LTU"
   },
   "outputs": [],
   "source": [
    "pd.set_option('display.max_rows',None)\n",
    "pd.set_option('display.max_columns',None)\n",
    "pd.set_option('display.max_colwidth',None)"
   ]
  },
  {
   "cell_type": "code",
   "execution_count": 6,
   "metadata": {
    "colab": {
     "base_uri": "https://localhost:8080/"
    },
    "id": "S-YCxnmn1PhD",
    "outputId": "5795e42e-088a-4f95-a683-7dee6d52ada2"
   },
   "outputs": [
    {
     "data": {
      "text/plain": [
       "(10000, 15)"
      ]
     },
     "execution_count": 6,
     "metadata": {},
     "output_type": "execute_result"
    }
   ],
   "source": [
    "df.shape"
   ]
  },
  {
   "cell_type": "code",
   "execution_count": 7,
   "metadata": {
    "colab": {
     "base_uri": "https://localhost:8080/",
     "height": 554
    },
    "id": "JSJF0d3k1Q32",
    "outputId": "7ba3bbd2-d6c4-4064-88a5-da845223146e"
   },
   "outputs": [
    {
     "data": {
      "text/plain": [
       "Poster               0\n",
       "Title                0\n",
       "Year               150\n",
       "Certificate       2630\n",
       "Duration (min)     336\n",
       "Genre                7\n",
       "Rating             404\n",
       "Metascore         2445\n",
       "Director             5\n",
       "Cast                39\n",
       "Votes              404\n",
       "Description          0\n",
       "Review Count         1\n",
       "Review Title       517\n",
       "Review             516\n",
       "dtype: int64"
      ]
     },
     "execution_count": 7,
     "metadata": {},
     "output_type": "execute_result"
    }
   ],
   "source": [
    "df.isnull().sum()"
   ]
  },
  {
   "cell_type": "code",
   "execution_count": 8,
   "metadata": {
    "colab": {
     "base_uri": "https://localhost:8080/"
    },
    "id": "Ax7JSc4T7Zqj",
    "outputId": "53ff0cf8-aa32-485f-f613-695f6ffc7362"
   },
   "outputs": [
    {
     "name": "stdout",
     "output_type": "stream",
     "text": [
      "<class 'pandas.core.frame.DataFrame'>\n",
      "RangeIndex: 10000 entries, 0 to 9999\n",
      "Data columns (total 15 columns):\n",
      " #   Column          Non-Null Count  Dtype  \n",
      "---  ------          --------------  -----  \n",
      " 0   Poster          10000 non-null  object \n",
      " 1   Title           10000 non-null  object \n",
      " 2   Year            9850 non-null   float64\n",
      " 3   Certificate     7370 non-null   object \n",
      " 4   Duration (min)  9664 non-null   float64\n",
      " 5   Genre           9993 non-null   object \n",
      " 6   Rating          9596 non-null   float64\n",
      " 7   Metascore       7555 non-null   float64\n",
      " 8   Director        9995 non-null   object \n",
      " 9   Cast            9961 non-null   object \n",
      " 10  Votes           9596 non-null   object \n",
      " 11  Description     10000 non-null  object \n",
      " 12  Review Count    9999 non-null   object \n",
      " 13  Review Title    9483 non-null   object \n",
      " 14  Review          9484 non-null   object \n",
      "dtypes: float64(4), object(11)\n",
      "memory usage: 1.1+ MB\n"
     ]
    }
   ],
   "source": [
    "df.info()"
   ]
  },
  {
   "cell_type": "code",
   "execution_count": 9,
   "metadata": {
    "id": "jaCTFadR1X6v"
   },
   "outputs": [],
   "source": [
    "movies = df[['Poster', 'Title', 'Year', 'Genre', 'Director', 'Cast', 'Description']]"
   ]
  },
  {
   "cell_type": "code",
   "execution_count": 10,
   "metadata": {
    "colab": {
     "base_uri": "https://localhost:8080/",
     "height": 635
    },
    "id": "KK0SWl_G9Sje",
    "outputId": "7c37eead-429e-4b09-c23f-6c2fb1764c20"
   },
   "outputs": [
    {
     "data": {
      "text/html": [
       "<div>\n",
       "<style scoped>\n",
       "    .dataframe tbody tr th:only-of-type {\n",
       "        vertical-align: middle;\n",
       "    }\n",
       "\n",
       "    .dataframe tbody tr th {\n",
       "        vertical-align: top;\n",
       "    }\n",
       "\n",
       "    .dataframe thead th {\n",
       "        text-align: right;\n",
       "    }\n",
       "</style>\n",
       "<table border=\"1\" class=\"dataframe\">\n",
       "  <thead>\n",
       "    <tr style=\"text-align: right;\">\n",
       "      <th></th>\n",
       "      <th>Poster</th>\n",
       "      <th>Title</th>\n",
       "      <th>Year</th>\n",
       "      <th>Genre</th>\n",
       "      <th>Director</th>\n",
       "      <th>Cast</th>\n",
       "      <th>Description</th>\n",
       "    </tr>\n",
       "  </thead>\n",
       "  <tbody>\n",
       "    <tr>\n",
       "      <th>4116</th>\n",
       "      <td>https://m.media-amazon.com/images/M/MV5BOTY0OTc3OTkyNV5BMl5BanBnXkFtZTcwMTg4Nzc5MQ@@._V1_UY209_CR0,0,140,209_AL_.jpg</td>\n",
       "      <td>The Uninvited</td>\n",
       "      <td>2012.0</td>\n",
       "      <td>Drama, Fantasy, Horror</td>\n",
       "      <td>Charles Guard</td>\n",
       "      <td>Thomas Guard, Emily Browning, Arielle Kebbel, Elizabeth Banks, David Strathairn</td>\n",
       "      <td>Anna returns home after a stint in a mental hospital, but her recovery is jeopardized by her father's new girlfriend and ghastly visions of her dead mother.</td>\n",
       "    </tr>\n",
       "    <tr>\n",
       "      <th>1054</th>\n",
       "      <td>https://m.media-amazon.com/images/M/MV5BZWQ0OTQ3ODctMmE0MS00ODc2LTg0ZTEtZWIwNTUxOGExZTQ4XkEyXkFqcGdeQXVyNzAwMjU2MTY@._V1_UX140_CR0,0,140,209_AL_.jpg</td>\n",
       "      <td>Batman</td>\n",
       "      <td>2018.0</td>\n",
       "      <td>Action, Adventure</td>\n",
       "      <td>Tim Burton</td>\n",
       "      <td>Michael Keaton, Jack Nicholson, Kim Basinger, Robert Wuhl</td>\n",
       "      <td>The Dark Knight of Gotham City begins his war on crime with his first major enemy being Jack Napier, a criminal who becomes the clownishly homicidal Joker.</td>\n",
       "    </tr>\n",
       "  </tbody>\n",
       "</table>\n",
       "</div>"
      ],
      "text/plain": [
       "                                                                                                                                                    Poster  \\\n",
       "4116                                  https://m.media-amazon.com/images/M/MV5BOTY0OTc3OTkyNV5BMl5BanBnXkFtZTcwMTg4Nzc5MQ@@._V1_UY209_CR0,0,140,209_AL_.jpg   \n",
       "1054  https://m.media-amazon.com/images/M/MV5BZWQ0OTQ3ODctMmE0MS00ODc2LTg0ZTEtZWIwNTUxOGExZTQ4XkEyXkFqcGdeQXVyNzAwMjU2MTY@._V1_UX140_CR0,0,140,209_AL_.jpg   \n",
       "\n",
       "              Title    Year                   Genre       Director  \\\n",
       "4116  The Uninvited  2012.0  Drama, Fantasy, Horror  Charles Guard   \n",
       "1054         Batman  2018.0       Action, Adventure     Tim Burton   \n",
       "\n",
       "                                                                                 Cast  \\\n",
       "4116  Thomas Guard, Emily Browning, Arielle Kebbel, Elizabeth Banks, David Strathairn   \n",
       "1054                        Michael Keaton, Jack Nicholson, Kim Basinger, Robert Wuhl   \n",
       "\n",
       "                                                                                                                                                       Description  \n",
       "4116  Anna returns home after a stint in a mental hospital, but her recovery is jeopardized by her father's new girlfriend and ghastly visions of her dead mother.  \n",
       "1054   The Dark Knight of Gotham City begins his war on crime with his first major enemy being Jack Napier, a criminal who becomes the clownishly homicidal Joker.  "
      ]
     },
     "execution_count": 10,
     "metadata": {},
     "output_type": "execute_result"
    }
   ],
   "source": [
    "movies.sample(2)"
   ]
  },
  {
   "cell_type": "code",
   "execution_count": 11,
   "metadata": {
    "colab": {
     "base_uri": "https://localhost:8080/"
    },
    "id": "p91Ucnru7xSp",
    "outputId": "6f60debe-4160-4e62-9ca0-b8c5e76a9b15"
   },
   "outputs": [
    {
     "data": {
      "text/plain": [
       "0"
      ]
     },
     "execution_count": 11,
     "metadata": {},
     "output_type": "execute_result"
    }
   ],
   "source": [
    "movies.duplicated().sum()"
   ]
  },
  {
   "cell_type": "code",
   "execution_count": 12,
   "metadata": {
    "colab": {
     "base_uri": "https://localhost:8080/"
    },
    "id": "WEPQinLc8lbZ",
    "outputId": "b97e22a5-73a7-4abb-f036-3b1113b6363c"
   },
   "outputs": [
    {
     "data": {
      "text/plain": [
       "(10000, 7)"
      ]
     },
     "execution_count": 12,
     "metadata": {},
     "output_type": "execute_result"
    }
   ],
   "source": [
    "movies.shape"
   ]
  },
  {
   "cell_type": "code",
   "execution_count": 13,
   "metadata": {
    "colab": {
     "base_uri": "https://localhost:8080/"
    },
    "id": "CgBjMx928dQl",
    "outputId": "18aec148-cb24-4314-93e2-6062d8a83cd5"
   },
   "outputs": [
    {
     "name": "stderr",
     "output_type": "stream",
     "text": [
      "C:\\Users\\HP\\AppData\\Local\\Temp\\ipykernel_3792\\3786870272.py:1: SettingWithCopyWarning: \n",
      "A value is trying to be set on a copy of a slice from a DataFrame\n",
      "\n",
      "See the caveats in the documentation: https://pandas.pydata.org/pandas-docs/stable/user_guide/indexing.html#returning-a-view-versus-a-copy\n",
      "  movies.dropna(inplace=True)\n"
     ]
    }
   ],
   "source": [
    "movies.dropna(inplace=True)"
   ]
  },
  {
   "cell_type": "code",
   "execution_count": 14,
   "metadata": {
    "colab": {
     "base_uri": "https://localhost:8080/"
    },
    "id": "wgxFB5Nq8rV6",
    "outputId": "26035a41-9ade-407d-c9b6-014afa0a3d3a"
   },
   "outputs": [
    {
     "data": {
      "text/plain": [
       "(9808, 7)"
      ]
     },
     "execution_count": 14,
     "metadata": {},
     "output_type": "execute_result"
    }
   ],
   "source": [
    "movies.shape"
   ]
  },
  {
   "cell_type": "code",
   "execution_count": 15,
   "metadata": {
    "colab": {
     "base_uri": "https://localhost:8080/"
    },
    "id": "QbCHT1PyG96o",
    "outputId": "ba39d0e5-518b-4d4d-8259-7ec05f95123d"
   },
   "outputs": [
    {
     "name": "stderr",
     "output_type": "stream",
     "text": [
      "C:\\Users\\HP\\AppData\\Local\\Temp\\ipykernel_3792\\2231955947.py:2: SettingWithCopyWarning: \n",
      "A value is trying to be set on a copy of a slice from a DataFrame\n",
      "\n",
      "See the caveats in the documentation: https://pandas.pydata.org/pandas-docs/stable/user_guide/indexing.html#returning-a-view-versus-a-copy\n",
      "  movies.drop('index', axis=1, inplace=True)\n"
     ]
    }
   ],
   "source": [
    "movies.reset_index(inplace=True)\n",
    "movies.drop('index', axis=1, inplace=True)"
   ]
  },
  {
   "cell_type": "code",
   "execution_count": 16,
   "metadata": {
    "colab": {
     "base_uri": "https://localhost:8080/",
     "height": 303
    },
    "id": "nSj0XgLY70Kl",
    "outputId": "5001e3e1-cceb-4020-fd10-d9ee10eaec7c"
   },
   "outputs": [
    {
     "data": {
      "text/plain": [
       "Poster         0\n",
       "Title          0\n",
       "Year           0\n",
       "Genre          0\n",
       "Director       0\n",
       "Cast           0\n",
       "Description    0\n",
       "dtype: int64"
      ]
     },
     "execution_count": 16,
     "metadata": {},
     "output_type": "execute_result"
    }
   ],
   "source": [
    "movies.isnull().sum()"
   ]
  },
  {
   "cell_type": "code",
   "execution_count": 17,
   "metadata": {
    "colab": {
     "base_uri": "https://localhost:8080/"
    },
    "id": "-2W97ttk8Jxn",
    "outputId": "11b5312e-aab7-4f80-bd49-39687b6ccd0f"
   },
   "outputs": [
    {
     "name": "stderr",
     "output_type": "stream",
     "text": [
      "C:\\Users\\HP\\AppData\\Local\\Temp\\ipykernel_3792\\3604813517.py:4: SettingWithCopyWarning: \n",
      "A value is trying to be set on a copy of a slice from a DataFrame.\n",
      "Try using .loc[row_indexer,col_indexer] = value instead\n",
      "\n",
      "See the caveats in the documentation: https://pandas.pydata.org/pandas-docs/stable/user_guide/indexing.html#returning-a-view-versus-a-copy\n",
      "  movies['Cast1'] = movies['Cast'].apply(collapse)\n",
      "C:\\Users\\HP\\AppData\\Local\\Temp\\ipykernel_3792\\3604813517.py:5: SettingWithCopyWarning: \n",
      "A value is trying to be set on a copy of a slice from a DataFrame.\n",
      "Try using .loc[row_indexer,col_indexer] = value instead\n",
      "\n",
      "See the caveats in the documentation: https://pandas.pydata.org/pandas-docs/stable/user_guide/indexing.html#returning-a-view-versus-a-copy\n",
      "  movies['Director1'] = movies['Director'].apply(collapse)\n",
      "C:\\Users\\HP\\AppData\\Local\\Temp\\ipykernel_3792\\3604813517.py:6: SettingWithCopyWarning: \n",
      "A value is trying to be set on a copy of a slice from a DataFrame.\n",
      "Try using .loc[row_indexer,col_indexer] = value instead\n",
      "\n",
      "See the caveats in the documentation: https://pandas.pydata.org/pandas-docs/stable/user_guide/indexing.html#returning-a-view-versus-a-copy\n",
      "  movies['Genre1'] = movies['Genre'].apply(collapse)\n"
     ]
    }
   ],
   "source": [
    "def collapse(L):\n",
    "    return L.replace(\" \",\"\")\n",
    "\n",
    "movies['Cast1'] = movies['Cast'].apply(collapse)\n",
    "movies['Director1'] = movies['Director'].apply(collapse)\n",
    "movies['Genre1'] = movies['Genre'].apply(collapse)\n",
    "# movies['Description'] = movies['Description'].apply(collapse)"
   ]
  },
  {
   "cell_type": "code",
   "execution_count": 18,
   "metadata": {
    "colab": {
     "base_uri": "https://localhost:8080/",
     "height": 1000
    },
    "id": "w0SEsUHD9K6T",
    "outputId": "38034076-b02c-4926-e3d4-cf0edb6bd236"
   },
   "outputs": [
    {
     "data": {
      "text/html": [
       "<div>\n",
       "<style scoped>\n",
       "    .dataframe tbody tr th:only-of-type {\n",
       "        vertical-align: middle;\n",
       "    }\n",
       "\n",
       "    .dataframe tbody tr th {\n",
       "        vertical-align: top;\n",
       "    }\n",
       "\n",
       "    .dataframe thead th {\n",
       "        text-align: right;\n",
       "    }\n",
       "</style>\n",
       "<table border=\"1\" class=\"dataframe\">\n",
       "  <thead>\n",
       "    <tr style=\"text-align: right;\">\n",
       "      <th></th>\n",
       "      <th>Poster</th>\n",
       "      <th>Title</th>\n",
       "      <th>Year</th>\n",
       "      <th>Genre</th>\n",
       "      <th>Director</th>\n",
       "      <th>Cast</th>\n",
       "      <th>Description</th>\n",
       "      <th>Cast1</th>\n",
       "      <th>Director1</th>\n",
       "      <th>Genre1</th>\n",
       "    </tr>\n",
       "  </thead>\n",
       "  <tbody>\n",
       "    <tr>\n",
       "      <th>0</th>\n",
       "      <td>https://m.media-amazon.com/images/M/MV5BYWRkZjJiODEtM2IwZi00ZjM1LWEyOTUtOThjMDk3YThjZDUzXkEyXkFqcGdeQXVyMTUzMTg2ODkz._V1_UY209_CR0,0,140,209_AL_.jpg</td>\n",
       "      <td>The Idea of You</td>\n",
       "      <td>2023.0</td>\n",
       "      <td>Comedy, Drama, Romance</td>\n",
       "      <td>Michael Showalter</td>\n",
       "      <td>Anne Hathaway, Nicholas Galitzine, Ella Rubin, Annie Mumolo</td>\n",
       "      <td>Solène, a 40-year-old single mom, begins an unexpected romance with 24-year-old Hayes Campbell, the lead singer of August Moon, the hottest boy band on the planet.</td>\n",
       "      <td>AnneHathaway,NicholasGalitzine,EllaRubin,AnnieMumolo</td>\n",
       "      <td>MichaelShowalter</td>\n",
       "      <td>Comedy,Drama,Romance</td>\n",
       "    </tr>\n",
       "    <tr>\n",
       "      <th>1</th>\n",
       "      <td>https://m.media-amazon.com/images/M/MV5BZGI4NTEwNTAtZDcwMi00MDkxLTg1OGYtNTZmMzE3ZDljNzVlXkEyXkFqcGdeQXVyMTEyMjM2NDc2._V1_UY209_CR0,0,140,209_AL_.jpg</td>\n",
       "      <td>Kingdom of the Planet of the Apes</td>\n",
       "      <td>2023.0</td>\n",
       "      <td>Action, Adventure, Sci-Fi</td>\n",
       "      <td>Wes Ball</td>\n",
       "      <td>Owen Teague, Freya Allan, Kevin Durand, Peter Macon</td>\n",
       "      <td>Many years after the reign of Caesar, a young ape goes on a journey that will lead him to question everything he's been taught about the past and make choices that will define a future for apes and humans alike.</td>\n",
       "      <td>OwenTeague,FreyaAllan,KevinDurand,PeterMacon</td>\n",
       "      <td>WesBall</td>\n",
       "      <td>Action,Adventure,Sci-Fi</td>\n",
       "    </tr>\n",
       "    <tr>\n",
       "      <th>2</th>\n",
       "      <td>https://m.media-amazon.com/images/M/MV5BZjIyOTBmNzEtY2YxNC00YzgyLTgxZGYtOWM4NTYwNmZkNzA1XkEyXkFqcGdeQXVyMTkxNjUyNQ@@._V1_UY209_CR0,0,140,209_AL_.jpg</td>\n",
       "      <td>Unfrosted</td>\n",
       "      <td>2023.0</td>\n",
       "      <td>Biography, Comedy, History</td>\n",
       "      <td>Jerry Seinfeld</td>\n",
       "      <td>Isaac Bae, Jerry Seinfeld, Chris Rickett, Rachael Harris</td>\n",
       "      <td>In 1963 Michigan, business rivals Kellogg's and Post compete to create a cake that could change breakfast forever.</td>\n",
       "      <td>IsaacBae,JerrySeinfeld,ChrisRickett,RachaelHarris</td>\n",
       "      <td>JerrySeinfeld</td>\n",
       "      <td>Biography,Comedy,History</td>\n",
       "    </tr>\n",
       "    <tr>\n",
       "      <th>3</th>\n",
       "      <td>https://m.media-amazon.com/images/M/MV5BMjA5ZjA3ZjMtMzg2ZC00ZDc4LTk3MTctYTE1ZTUzZDIzMjQyXkEyXkFqcGdeQXVyMTM1NjM2ODg1._V1_UX140_CR0,0,140,209_AL_.jpg</td>\n",
       "      <td>The Fall Guy</td>\n",
       "      <td>2023.0</td>\n",
       "      <td>Action, Comedy, Drama</td>\n",
       "      <td>David Leitch</td>\n",
       "      <td>Ryan Gosling, Emily Blunt, Aaron Taylor-Johnson, Hannah Waddingham</td>\n",
       "      <td>A down-and-out stuntman must find the missing star of his ex-girlfriend's blockbuster film.</td>\n",
       "      <td>RyanGosling,EmilyBlunt,AaronTaylor-Johnson,HannahWaddingham</td>\n",
       "      <td>DavidLeitch</td>\n",
       "      <td>Action,Comedy,Drama</td>\n",
       "    </tr>\n",
       "    <tr>\n",
       "      <th>4</th>\n",
       "      <td>https://m.media-amazon.com/images/M/MV5BNTk1MTdmYzctNzlkOS00ZTNmLWI4ZTMtMzc3OWFkMDI0MTJkXkEyXkFqcGdeQXVyMTkxNjUyNQ@@._V1_UY209_CR0,0,140,209_AL_.jpg</td>\n",
       "      <td>Challengers</td>\n",
       "      <td>2023.0</td>\n",
       "      <td>Drama, Romance, Sport</td>\n",
       "      <td>Luca Guadagnino</td>\n",
       "      <td>Zendaya, Mike Faist, Josh O'Connor, Darnell Appling</td>\n",
       "      <td>Tashi, a former tennis prodigy turned coach, turned her husband into a champion. But to overcome a losing streak, he needs to face his ex-best friend and Tashi's ex-boyfriend.</td>\n",
       "      <td>Zendaya,MikeFaist,JoshO'Connor,DarnellAppling</td>\n",
       "      <td>LucaGuadagnino</td>\n",
       "      <td>Drama,Romance,Sport</td>\n",
       "    </tr>\n",
       "  </tbody>\n",
       "</table>\n",
       "</div>"
      ],
      "text/plain": [
       "                                                                                                                                                 Poster  \\\n",
       "0  https://m.media-amazon.com/images/M/MV5BYWRkZjJiODEtM2IwZi00ZjM1LWEyOTUtOThjMDk3YThjZDUzXkEyXkFqcGdeQXVyMTUzMTg2ODkz._V1_UY209_CR0,0,140,209_AL_.jpg   \n",
       "1  https://m.media-amazon.com/images/M/MV5BZGI4NTEwNTAtZDcwMi00MDkxLTg1OGYtNTZmMzE3ZDljNzVlXkEyXkFqcGdeQXVyMTEyMjM2NDc2._V1_UY209_CR0,0,140,209_AL_.jpg   \n",
       "2  https://m.media-amazon.com/images/M/MV5BZjIyOTBmNzEtY2YxNC00YzgyLTgxZGYtOWM4NTYwNmZkNzA1XkEyXkFqcGdeQXVyMTkxNjUyNQ@@._V1_UY209_CR0,0,140,209_AL_.jpg   \n",
       "3  https://m.media-amazon.com/images/M/MV5BMjA5ZjA3ZjMtMzg2ZC00ZDc4LTk3MTctYTE1ZTUzZDIzMjQyXkEyXkFqcGdeQXVyMTM1NjM2ODg1._V1_UX140_CR0,0,140,209_AL_.jpg   \n",
       "4  https://m.media-amazon.com/images/M/MV5BNTk1MTdmYzctNzlkOS00ZTNmLWI4ZTMtMzc3OWFkMDI0MTJkXkEyXkFqcGdeQXVyMTkxNjUyNQ@@._V1_UY209_CR0,0,140,209_AL_.jpg   \n",
       "\n",
       "                               Title    Year                       Genre  \\\n",
       "0                    The Idea of You  2023.0      Comedy, Drama, Romance   \n",
       "1  Kingdom of the Planet of the Apes  2023.0   Action, Adventure, Sci-Fi   \n",
       "2                          Unfrosted  2023.0  Biography, Comedy, History   \n",
       "3                       The Fall Guy  2023.0       Action, Comedy, Drama   \n",
       "4                        Challengers  2023.0       Drama, Romance, Sport   \n",
       "\n",
       "            Director  \\\n",
       "0  Michael Showalter   \n",
       "1           Wes Ball   \n",
       "2     Jerry Seinfeld   \n",
       "3       David Leitch   \n",
       "4    Luca Guadagnino   \n",
       "\n",
       "                                                                 Cast  \\\n",
       "0         Anne Hathaway, Nicholas Galitzine, Ella Rubin, Annie Mumolo   \n",
       "1                 Owen Teague, Freya Allan, Kevin Durand, Peter Macon   \n",
       "2            Isaac Bae, Jerry Seinfeld, Chris Rickett, Rachael Harris   \n",
       "3  Ryan Gosling, Emily Blunt, Aaron Taylor-Johnson, Hannah Waddingham   \n",
       "4                 Zendaya, Mike Faist, Josh O'Connor, Darnell Appling   \n",
       "\n",
       "                                                                                                                                                                                                           Description  \\\n",
       "0                                                  Solène, a 40-year-old single mom, begins an unexpected romance with 24-year-old Hayes Campbell, the lead singer of August Moon, the hottest boy band on the planet.   \n",
       "1  Many years after the reign of Caesar, a young ape goes on a journey that will lead him to question everything he's been taught about the past and make choices that will define a future for apes and humans alike.   \n",
       "2                                                                                                   In 1963 Michigan, business rivals Kellogg's and Post compete to create a cake that could change breakfast forever.   \n",
       "3                                                                                                                          A down-and-out stuntman must find the missing star of his ex-girlfriend's blockbuster film.   \n",
       "4                                      Tashi, a former tennis prodigy turned coach, turned her husband into a champion. But to overcome a losing streak, he needs to face his ex-best friend and Tashi's ex-boyfriend.   \n",
       "\n",
       "                                                         Cast1  \\\n",
       "0         AnneHathaway,NicholasGalitzine,EllaRubin,AnnieMumolo   \n",
       "1                 OwenTeague,FreyaAllan,KevinDurand,PeterMacon   \n",
       "2            IsaacBae,JerrySeinfeld,ChrisRickett,RachaelHarris   \n",
       "3  RyanGosling,EmilyBlunt,AaronTaylor-Johnson,HannahWaddingham   \n",
       "4                Zendaya,MikeFaist,JoshO'Connor,DarnellAppling   \n",
       "\n",
       "          Director1                    Genre1  \n",
       "0  MichaelShowalter      Comedy,Drama,Romance  \n",
       "1           WesBall   Action,Adventure,Sci-Fi  \n",
       "2     JerrySeinfeld  Biography,Comedy,History  \n",
       "3       DavidLeitch       Action,Comedy,Drama  \n",
       "4    LucaGuadagnino       Drama,Romance,Sport  "
      ]
     },
     "execution_count": 18,
     "metadata": {},
     "output_type": "execute_result"
    }
   ],
   "source": [
    "movies.head()"
   ]
  },
  {
   "cell_type": "code",
   "execution_count": 19,
   "metadata": {
    "colab": {
     "base_uri": "https://localhost:8080/"
    },
    "id": "PGfQ4clJ-X-0",
    "outputId": "86257ecc-d596-4d58-ba19-da181959ba6b"
   },
   "outputs": [
    {
     "name": "stderr",
     "output_type": "stream",
     "text": [
      "C:\\Users\\HP\\AppData\\Local\\Temp\\ipykernel_3792\\3949564977.py:1: SettingWithCopyWarning: \n",
      "A value is trying to be set on a copy of a slice from a DataFrame.\n",
      "Try using .loc[row_indexer,col_indexer] = value instead\n",
      "\n",
      "See the caveats in the documentation: https://pandas.pydata.org/pandas-docs/stable/user_guide/indexing.html#returning-a-view-versus-a-copy\n",
      "  movies['tags'] = movies['Description'] + movies['Genre'] + movies['Director'] + movies['Cast']\n"
     ]
    }
   ],
   "source": [
    "movies['tags'] = movies['Description'] + movies['Genre'] + movies['Director'] + movies['Cast']"
   ]
  },
  {
   "cell_type": "code",
   "execution_count": 20,
   "metadata": {
    "colab": {
     "base_uri": "https://localhost:8080/"
    },
    "id": "FYklZOCy-72d",
    "outputId": "f49bcb38-9afa-41ff-aea9-4c3f20493548"
   },
   "outputs": [
    {
     "name": "stderr",
     "output_type": "stream",
     "text": [
      "C:\\Users\\HP\\AppData\\Local\\Temp\\ipykernel_3792\\445373756.py:1: SettingWithCopyWarning: \n",
      "A value is trying to be set on a copy of a slice from a DataFrame\n",
      "\n",
      "See the caveats in the documentation: https://pandas.pydata.org/pandas-docs/stable/user_guide/indexing.html#returning-a-view-versus-a-copy\n",
      "  movies.drop(columns=['Description','Genre1','Director1','Cast1'], inplace=True)\n"
     ]
    }
   ],
   "source": [
    "movies.drop(columns=['Description','Genre1','Director1','Cast1'], inplace=True)"
   ]
  },
  {
   "cell_type": "code",
   "execution_count": 21,
   "metadata": {
    "colab": {
     "base_uri": "https://localhost:8080/",
     "height": 135
    },
    "id": "b1T-NmDn-z2t",
    "outputId": "769d5664-3bf0-4205-e999-b07ca537c2da"
   },
   "outputs": [
    {
     "data": {
      "text/html": [
       "<div>\n",
       "<style scoped>\n",
       "    .dataframe tbody tr th:only-of-type {\n",
       "        vertical-align: middle;\n",
       "    }\n",
       "\n",
       "    .dataframe tbody tr th {\n",
       "        vertical-align: top;\n",
       "    }\n",
       "\n",
       "    .dataframe thead th {\n",
       "        text-align: right;\n",
       "    }\n",
       "</style>\n",
       "<table border=\"1\" class=\"dataframe\">\n",
       "  <thead>\n",
       "    <tr style=\"text-align: right;\">\n",
       "      <th></th>\n",
       "      <th>Poster</th>\n",
       "      <th>Title</th>\n",
       "      <th>Year</th>\n",
       "      <th>Genre</th>\n",
       "      <th>Director</th>\n",
       "      <th>Cast</th>\n",
       "      <th>tags</th>\n",
       "    </tr>\n",
       "  </thead>\n",
       "  <tbody>\n",
       "    <tr>\n",
       "      <th>4028</th>\n",
       "      <td>https://m.media-amazon.com/images/M/MV5BZTQ0MDZhZTgtMDU2ZC00ZTA2LTliNjEtMjAxNmUxZjZkYzIyXkEyXkFqcGdeQXVyMTUzMDUzNTI3._V1_UX140_CR0,0,140,209_AL_.jpg</td>\n",
       "      <td>Bad Boys</td>\n",
       "      <td>1996.0</td>\n",
       "      <td>Crime, Drama, Thriller</td>\n",
       "      <td>Rick Rosenthal</td>\n",
       "      <td>Sean Penn, Reni Santoni, Jim Moody, Eric Gurry</td>\n",
       "      <td>Chicago crime kid Mick O'Brien is sent to reform school after accidentally killing a rival's kid brother.Crime, Drama, ThrillerRick RosenthalSean Penn, Reni Santoni, Jim Moody, Eric Gurry</td>\n",
       "    </tr>\n",
       "  </tbody>\n",
       "</table>\n",
       "</div>"
      ],
      "text/plain": [
       "                                                                                                                                                    Poster  \\\n",
       "4028  https://m.media-amazon.com/images/M/MV5BZTQ0MDZhZTgtMDU2ZC00ZTA2LTliNjEtMjAxNmUxZjZkYzIyXkEyXkFqcGdeQXVyMTUzMDUzNTI3._V1_UX140_CR0,0,140,209_AL_.jpg   \n",
       "\n",
       "         Title    Year                   Genre        Director  \\\n",
       "4028  Bad Boys  1996.0  Crime, Drama, Thriller  Rick Rosenthal   \n",
       "\n",
       "                                                Cast  \\\n",
       "4028  Sean Penn, Reni Santoni, Jim Moody, Eric Gurry   \n",
       "\n",
       "                                                                                                                                                                                             tags  \n",
       "4028  Chicago crime kid Mick O'Brien is sent to reform school after accidentally killing a rival's kid brother.Crime, Drama, ThrillerRick RosenthalSean Penn, Reni Santoni, Jim Moody, Eric Gurry  "
      ]
     },
     "execution_count": 21,
     "metadata": {},
     "output_type": "execute_result"
    }
   ],
   "source": [
    "movies.sample()"
   ]
  },
  {
   "cell_type": "code",
   "execution_count": 22,
   "metadata": {
    "colab": {
     "base_uri": "https://localhost:8080/"
    },
    "id": "tcdXEE9G-2Ss",
    "outputId": "b162a787-a7a4-4ada-cef8-2dc5c764ec51"
   },
   "outputs": [
    {
     "name": "stderr",
     "output_type": "stream",
     "text": [
      "[nltk_data] Downloading package wordnet to\n",
      "[nltk_data]     C:\\Users\\HP\\AppData\\Roaming\\nltk_data...\n",
      "[nltk_data]   Package wordnet is already up-to-date!\n",
      "[nltk_data] Downloading package omw-1.4 to\n",
      "[nltk_data]     C:\\Users\\HP\\AppData\\Roaming\\nltk_data...\n",
      "[nltk_data]   Package omw-1.4 is already up-to-date!\n"
     ]
    },
    {
     "data": {
      "text/plain": [
       "True"
      ]
     },
     "execution_count": 22,
     "metadata": {},
     "output_type": "execute_result"
    }
   ],
   "source": [
    "import nltk\n",
    "from nltk.stem import WordNetLemmatizer\n",
    "from nltk.corpus import wordnet\n",
    "\n",
    "nltk.download('wordnet')\n",
    "nltk.download('omw-1.4')"
   ]
  },
  {
   "cell_type": "code",
   "execution_count": 23,
   "metadata": {
    "colab": {
     "base_uri": "https://localhost:8080/"
    },
    "id": "0ndPV3pd_m7L",
    "outputId": "bbc48f50-0c61-44c5-aab2-003cc17e5847"
   },
   "outputs": [
    {
     "name": "stderr",
     "output_type": "stream",
     "text": [
      "C:\\Users\\HP\\AppData\\Local\\Temp\\ipykernel_3792\\2720284441.py:3: SettingWithCopyWarning: \n",
      "A value is trying to be set on a copy of a slice from a DataFrame.\n",
      "Try using .loc[row_indexer,col_indexer] = value instead\n",
      "\n",
      "See the caveats in the documentation: https://pandas.pydata.org/pandas-docs/stable/user_guide/indexing.html#returning-a-view-versus-a-copy\n",
      "  movies['tags'] = movies['tags'].apply(lambda x:lemmatizer.lemmatize(x, pos='v'))\n"
     ]
    }
   ],
   "source": [
    "lemmatizer = WordNetLemmatizer()\n",
    "\n",
    "movies['tags'] = movies['tags'].apply(lambda x:lemmatizer.lemmatize(x, pos='v'))"
   ]
  },
  {
   "cell_type": "code",
   "execution_count": 24,
   "metadata": {
    "id": "y7_IlEIg_vdD"
   },
   "outputs": [],
   "source": [
    "from sklearn.feature_extraction.text import TfidfVectorizer\n",
    "\n",
    "vectorizer = TfidfVectorizer()\n",
    "\n",
    "feature_vectors = vectorizer.fit_transform(movies['tags'])"
   ]
  },
  {
   "cell_type": "code",
   "execution_count": 25,
   "metadata": {
    "colab": {
     "base_uri": "https://localhost:8080/"
    },
    "id": "JPiLj0NB_28J",
    "outputId": "d87bee31-846a-4f8c-edcd-1c34b81dd5dc"
   },
   "outputs": [
    {
     "data": {
      "text/plain": [
       "(9808, 46586)"
      ]
     },
     "execution_count": 25,
     "metadata": {},
     "output_type": "execute_result"
    }
   ],
   "source": [
    "feature_vectors.shape"
   ]
  },
  {
   "cell_type": "code",
   "execution_count": 26,
   "metadata": {
    "id": "R45Ec2Z__7Vy"
   },
   "outputs": [],
   "source": [
    "from sklearn.metrics.pairwise import cosine_similarity\n",
    "\n",
    "similarity = cosine_similarity(feature_vectors)"
   ]
  },
  {
   "cell_type": "code",
   "execution_count": 27,
   "metadata": {
    "colab": {
     "base_uri": "https://localhost:8080/"
    },
    "id": "8OO1hToU_95D",
    "outputId": "97f7e8bf-1e48-4f45-ff27-da620ea4ecb3"
   },
   "outputs": [
    {
     "data": {
      "text/plain": [
       "(9808, 9808)"
      ]
     },
     "execution_count": 27,
     "metadata": {},
     "output_type": "execute_result"
    }
   ],
   "source": [
    "similarity.shape"
   ]
  },
  {
   "cell_type": "code",
   "execution_count": 28,
   "metadata": {
    "id": "Jgra_Dw7AAYC"
   },
   "outputs": [],
   "source": [
    "def recommend(movie):\n",
    "    index = movies[movies['Title'] == movie].index[0]\n",
    "    distances = sorted(list(enumerate(similarity[index])),reverse=True,key = lambda x: x[1])\n",
    "    for i in distances[1:6]:\n",
    "        print(movies.loc[i[0]].Title)\n",
    "        print(movies.loc[i[0]].Poster)"
   ]
  },
  {
   "cell_type": "code",
   "execution_count": 29,
   "metadata": {
    "colab": {
     "base_uri": "https://localhost:8080/"
    },
    "id": "bdZIfYTnAGKy",
    "outputId": "278ac2bd-406d-440b-a795-def82ae464a5"
   },
   "outputs": [
    {
     "name": "stdout",
     "output_type": "stream",
     "text": [
      "Iron Man 2\n",
      "https://m.media-amazon.com/images/M/MV5BZGVkNDAyM2EtYzYxYy00ZWUxLTgwMjgtY2VmODE5OTk3N2M5XkEyXkFqcGdeQXVyNTgzMDMzMTg@._V1_UY209_CR1,0,140,209_AL_.jpg\n",
      "Iron Man Three\n",
      "https://m.media-amazon.com/images/M/MV5BMjE5MzcyNjk1M15BMl5BanBnXkFtZTcwMjQ4MjcxOQ@@._V1_UY209_CR3,0,140,209_AL_.jpg\n",
      "Avengers: Age of Ultron\n",
      "https://m.media-amazon.com/images/M/MV5BMTM4OGJmNWMtOTM4Ni00NTE3LTg3MDItZmQxYjc4N2JhNmUxXkEyXkFqcGdeQXVyNTgzMDMzMTg@._V1_UY209_CR0,0,140,209_AL_.jpg\n",
      "The Vikings\n",
      "https://m.media-amazon.com/images/M/MV5BMzNkYmEwZWYtN2NhYy00NDcwLWI3OTctZTlmOGE1OTU3OWU3XkEyXkFqcGdeQXVyNjc5NjEzNA@@._V1_UX140_CR0,0,140,209_AL_.jpg\n",
      "Spider-Man: Homecoming\n",
      "https://m.media-amazon.com/images/M/MV5BODY2MTAzOTQ4M15BMl5BanBnXkFtZTgwNzg5MTE0MjI@._V1_UY209_CR0,0,140,209_AL_.jpg\n"
     ]
    }
   ],
   "source": [
    "recommend('Iron Man')"
   ]
  },
  {
   "cell_type": "code",
   "execution_count": 30,
   "metadata": {
    "colab": {
     "base_uri": "https://localhost:8080/",
     "height": 118
    },
    "id": "qPrHwjW9AHZS",
    "outputId": "5108b767-c818-4257-9a26-0c2a334b27a6"
   },
   "outputs": [
    {
     "data": {
      "text/html": [
       "<div>\n",
       "<style scoped>\n",
       "    .dataframe tbody tr th:only-of-type {\n",
       "        vertical-align: middle;\n",
       "    }\n",
       "\n",
       "    .dataframe tbody tr th {\n",
       "        vertical-align: top;\n",
       "    }\n",
       "\n",
       "    .dataframe thead th {\n",
       "        text-align: right;\n",
       "    }\n",
       "</style>\n",
       "<table border=\"1\" class=\"dataframe\">\n",
       "  <thead>\n",
       "    <tr style=\"text-align: right;\">\n",
       "      <th></th>\n",
       "      <th>Poster</th>\n",
       "      <th>Title</th>\n",
       "      <th>Year</th>\n",
       "      <th>Genre</th>\n",
       "      <th>Director</th>\n",
       "      <th>Cast</th>\n",
       "      <th>tags</th>\n",
       "    </tr>\n",
       "  </thead>\n",
       "  <tbody>\n",
       "    <tr>\n",
       "      <th>3746</th>\n",
       "      <td>https://m.media-amazon.com/images/M/MV5BNmM1NmY4N2QtNmVkOS00MjMyLWI5ZGUtYWYxMDRjY2MzNDdiXkEyXkFqcGdeQXVyMTAwMDAwMA@@._V1_UY209_CR34,0,140,209_AL_.jpg</td>\n",
       "      <td>Avatar 3</td>\n",
       "      <td>2021.0</td>\n",
       "      <td>Action, Adventure, Fantasy</td>\n",
       "      <td>James Cameron</td>\n",
       "      <td>Michelle Yeoh, Zoe Saldana, Sigourney Weaver, Stephen Lang</td>\n",
       "      <td>Sequel ofAvatar: The Way of Water(2022). The plot is unknown.Action, Adventure, FantasyJames CameronMichelle Yeoh, Zoe Saldana, Sigourney Weaver, Stephen Lang</td>\n",
       "    </tr>\n",
       "  </tbody>\n",
       "</table>\n",
       "</div>"
      ],
      "text/plain": [
       "                                                                                                                                                     Poster  \\\n",
       "3746  https://m.media-amazon.com/images/M/MV5BNmM1NmY4N2QtNmVkOS00MjMyLWI5ZGUtYWYxMDRjY2MzNDdiXkEyXkFqcGdeQXVyMTAwMDAwMA@@._V1_UY209_CR34,0,140,209_AL_.jpg   \n",
       "\n",
       "         Title    Year                       Genre       Director  \\\n",
       "3746  Avatar 3  2021.0  Action, Adventure, Fantasy  James Cameron   \n",
       "\n",
       "                                                            Cast  \\\n",
       "3746  Michelle Yeoh, Zoe Saldana, Sigourney Weaver, Stephen Lang   \n",
       "\n",
       "                                                                                                                                                                tags  \n",
       "3746  Sequel ofAvatar: The Way of Water(2022). The plot is unknown.Action, Adventure, FantasyJames CameronMichelle Yeoh, Zoe Saldana, Sigourney Weaver, Stephen Lang  "
      ]
     },
     "execution_count": 30,
     "metadata": {},
     "output_type": "execute_result"
    }
   ],
   "source": [
    "movies[movies['Title'] == 'Avatar 3']"
   ]
  },
  {
   "cell_type": "code",
   "execution_count": 38,
   "metadata": {},
   "outputs": [
    {
     "data": {
      "text/plain": [
       "(9808, 9808)"
      ]
     },
     "execution_count": 38,
     "metadata": {},
     "output_type": "execute_result"
    }
   ],
   "source": [
    "similarity.getfield(dtype='float32').shape"
   ]
  },
  {
   "cell_type": "code",
   "execution_count": 39,
   "metadata": {
    "id": "Q6qU8rJ6BXQL"
   },
   "outputs": [
    {
     "data": {
      "text/plain": [
       "['similarity.joblib']"
      ]
     },
     "execution_count": 39,
     "metadata": {},
     "output_type": "execute_result"
    }
   ],
   "source": [
    "import joblib\n",
    "\n",
    "joblib.dump(movies, open('movies.joblib', 'wb'))\n",
    "joblib.dump(similarity, 'similarity.joblib', compress=('gzip', 9))"
   ]
  },
  {
   "cell_type": "code",
   "execution_count": null,
   "metadata": {},
   "outputs": [],
   "source": []
  }
 ],
 "metadata": {
  "colab": {
   "provenance": []
  },
  "kernelspec": {
   "display_name": "Python 3 (ipykernel)",
   "language": "python",
   "name": "python3"
  },
  "language_info": {
   "codemirror_mode": {
    "name": "ipython",
    "version": 3
   },
   "file_extension": ".py",
   "mimetype": "text/x-python",
   "name": "python",
   "nbconvert_exporter": "python",
   "pygments_lexer": "ipython3",
   "version": "3.11.7"
  }
 },
 "nbformat": 4,
 "nbformat_minor": 4
}
